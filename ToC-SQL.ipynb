{
 "nbformat": 4,
 "nbformat_minor": 2,
 "metadata": {
  "language_info": {
   "name": "python",
   "codemirror_mode": {
    "name": "ipython",
    "version": 3
   },
   "version": "3.8.2-final"
  },
  "orig_nbformat": 2,
  "file_extension": ".py",
  "mimetype": "text/x-python",
  "name": "python",
  "npconvert_exporter": "python",
  "pygments_lexer": "ipython3",
  "version": 3,
  "kernelspec": {
   "name": "python38264bit87857fe70c974a5f904519bf80e0a4a8",
   "display_name": "Python 3.8.2 64-bit"
  }
 },
 "cells": [
  {
   "cell_type": "markdown",
   "metadata": {},
   "source": [
    "## SQL for Data Science\n",
    "A relational database stores data in a tabular format - i.e. in rows and columns. But not all types of databases use the tabular format."
   ],
   "execution_count": null,
   "outputs": []
  },
  {
   "cell_type": "markdown",
   "metadata": {},
   "source": [
    "### Conception \n",
    "1.Database service instance - <br>\n",
    "logical abstraction for managing workloads in a database. Operates as a service that handles all application requests to work with the data in any of the databases managed by that instance. <br>\n",
    "2. IBM Db2 - <br>\n",
    "Just like any database software, which is provisioned for you in the cloud. <br>\n",
    "3.Host name - <Br>\n",
    "A unique name or label assigned to any device that is connected to a specific computer network."
   ],
   "execution_count": null,
   "outputs": []
  },
  {
   "cell_type": "markdown",
   "metadata": {},
   "source": [
    "### CREATE and DROP tables\n",
    "Varchar 可变长字符串 <br>\n",
    "如果在生成表格时遇到table xxx.yyy already exists的错误 请使用drop table COUNTRY;"
   ],
   "execution_count": null,
   "outputs": []
  },
  {
   "cell_type": "code",
   "execution_count": null,
   "metadata": {},
   "outputs": [],
   "source": [
    "# Example1\n",
    "create table COUNTRY ( #Name the table as COUNTRY\n",
    "    ID INTEGER PRIMARY KEY NOT NULL, #Column data type, NOT NULL is a constraint added after the data type, it cannot contain a NULL(appear to be a blank) or an empty value. \n",
    "    CCODE char(2),\n",
    "    NAME varchar(60),\n",
    "    PRIMARY KEY (ID) #唯一而且非空 A Primary Key is a unique identifier in a table, and using Primary Keys can help speed up your queries significantly.\n",
    "    );"
   ]
  },
  {
   "cell_type": "markdown",
   "metadata": {},
   "source": [
    "### Getting table and column details"
   ]
  },
  {
   "cell_type": "code",
   "execution_count": null,
   "metadata": {},
   "outputs": [],
   "source": [
    "select * from syscat.tables #query system catalog to get a list of tables & their properties\n",
    "\n",
    "select TABSCHEMA, TABNAME, CREATE_TIME\n",
    "    from syscat.tables\n",
    "    where tabschema = 'usename'"
   ]
  },
  {
   "cell_type": "code",
   "execution_count": null,
   "metadata": {},
   "outputs": [],
   "source": [
    "#To obtain the column names query syscat.columns:\n",
    "select * from syscat.columns\n",
    "    where tabname = 'DOGS'\n",
    "\n",
    "#To obtain specific column properties:\n",
    "select distinct(name), coltype, length \\\n",
    "    from sysibm.syscolumns where tbname = 'tablename'"
   ]
  },
  {
   "cell_type": "markdown",
   "metadata": {},
   "source": [
    "### Select Statement\n",
    "Database is not just to store data, but also facilitate retrieval of the data. <br>\n",
    "**select<column 1>, <column 2> from book** or <br>\n",
    "**select book_id, title from book**"
   ],
   "execution_count": null,
   "outputs": []
  },
  {
   "cell_type": "markdown",
   "metadata": {},
   "source": [
    "**WHERE Clause** allows to restrict the result set.clause=条款，predicate谓语 <br>\n",
    "格式为 <br>\n",
    "**select book_id, title from book <br>\n",
    "    WHERE *book_id = 'B1'* **(Predicate evaluates to true, flase, unknown) <br>\n",
    "    <br>\n",
    "Some useful expressions that be used with select statements:"
   ],
   "execution_count": null,
   "outputs": []
  },
  {
   "cell_type": "code",
   "execution_count": null,
   "metadata": {},
   "outputs": [],
   "source": [
    "select * from COUNTRY #select all columns from table\n",
    "select book_id <> 10 #select book id not equal 10"
   ]
  },
  {
   "cell_type": "code",
   "execution_count": null,
   "metadata": {},
   "outputs": [],
   "source": [
    "count() #retrieve the number of rows matching the query criteria\n",
    "select COUNT(COUNTRY) from MEDALS\n",
    "    where COUNTRY = 'CANADA'"
   ]
  },
  {
   "cell_type": "code",
   "execution_count": null,
   "metadata": {},
   "outputs": [],
   "source": [
    "DISTINCT #avoid duplicate values from a result set.\n",
    "Select DISTINCT columnname from tablename"
   ]
  },
  {
   "cell_type": "code",
   "execution_count": null,
   "metadata": {},
   "outputs": [],
   "source": [
    "LIMIT #retrieve limited rows result set from database\n",
    "select * from tablename LIMIT 10\n",
    "select * from MEDALS\n",
    "    where YEAR = 2018 LIMIT 5"
   ]
  },
  {
   "cell_type": "markdown",
   "metadata": {},
   "source": [
    "### Insert Statement\n",
    "Example:"
   ],
   "execution_count": null,
   "outputs": []
  },
  {
   "cell_type": "code",
   "execution_count": null,
   "metadata": {},
   "outputs": [],
   "source": [
    "INSERT INTO AUTHOR #TABLENAME\n",
    "(AUTHOR_ID, LASTNAME, FIRSTNAME, EMAIL, CITY, COUNTRY)\n",
    "VALUES #COLUMNS that needed to be inserted, can be multiple values.\n",
    "('A1','CHONG','RFC@IBM.COM','TORONTO','CA'),\n",
    "('A2'...)"
   ]
  },
  {
   "cell_type": "markdown",
   "metadata": {},
   "source": [
    "### Update and Delete Statements\n",
    "To alter or modify the data of the table we used UPDATE Statements.<br>\n",
    "Example:"
   ],
   "execution_count": null,
   "outputs": []
  },
  {
   "cell_type": "code",
   "execution_count": null,
   "metadata": {},
   "outputs": [],
   "source": [
    "UPDATE AUTHOR #table name\n",
    "SET LASTNAME = KATTA #column = new value \n",
    "    FIRSTNAME = LAKSHMI #column = new value\n",
    "WHERE AUTHOR_IR = A2 #Row name"
   ]
  },
  {
   "cell_type": "code",
   "execution_count": null,
   "metadata": {},
   "outputs": [],
   "source": [
    "DELETE FROM AUTHOR\n",
    "WHERE AUTHOR_ID IN ('A2','A3')"
   ]
  },
  {
   "cell_type": "markdown",
   "metadata": {},
   "source": [
    "### The relationships of Types\n",
    "One-to-One relationship: Book || Authord by || Author <br>\n",
    "One-to-Many relationship: Book || Authored by < Author (Crows foot notation, less than symbol < representing this entity can has at least 1 attribute.) <br>\n",
    "Many-to-many relationship: Book> Author < Author"
   ],
   "execution_count": null,
   "outputs": []
  },
  {
   "cell_type": "markdown",
   "metadata": {},
   "source": [
    "**Relational Model Concepts** <br>\n",
    "Building blocks: <br>\n",
    "1.Relation(1.1Relational schema - specify relation name and attributes, and 1.2 Relational instance - a table made up of the attributes and tuples) <br>\n",
    "2.Set(Unordered collection of distinct elements/itmes of same type/no order or no duplicate) <br>\n",
    "Degree = the number of attributes(columns) #有几种变量 <br>\n",
    "Cardinality = the number of tuples #有多少个数据基数(rows)"
   ],
   "execution_count": null,
   "outputs": []
  },
  {
   "cell_type": "markdown",
   "metadata": {},
   "source": [
    "### Retrieving rows- using a string pattern\n",
    "When you don't remember the exact value you could use to search for a pattern in a column. <Br>\n",
    "Example 1: using % to find a value that you forgot"
   ],
   "execution_count": null,
   "outputs": []
  },
  {
   "cell_type": "code",
   "execution_count": null,
   "metadata": {},
   "outputs": [],
   "source": [
    "bd2 => select firstname from author\n",
    "where firstname like 'R%' # %sign represent possible letter"
   ]
  },
  {
   "cell_type": "markdown",
   "metadata": {},
   "source": [
    "Example 2: Use a **range** to retrieve the data"
   ],
   "execution_count": null,
   "outputs": []
  },
  {
   "cell_type": "code",
   "execution_count": null,
   "metadata": {},
   "outputs": [],
   "source": [
    "db2 => select title, pages from book\n",
    "where pages >= 200 and pages <= 300\n",
    "#or\n",
    "db2 => select title, pages from book\n",
    "where pages between 290 and 300"
   ]
  },
  {
   "cell_type": "markdown",
   "metadata": {},
   "source": [
    "Example 3: Use a set of value if you need to select a large attributes"
   ],
   "execution_count": null,
   "outputs": []
  },
  {
   "cell_type": "code",
   "execution_count": null,
   "metadata": {},
   "outputs": [],
   "source": [
    "select firstname, lastname, country from author where country IN ('AU','BR','CN')"
   ]
  },
  {
   "cell_type": "markdown",
   "metadata": {},
   "source": [
    "### Sorting Result Set\n",
    "Example: Order by clause"
   ],
   "execution_count": null,
   "outputs": []
  },
  {
   "cell_type": "code",
   "execution_count": null,
   "metadata": {},
   "outputs": [],
   "source": [
    "select title from book\n",
    "order by title desc #title is the column name it can be a number,desc = descending. Ascending by default."
   ]
  },
  {
   "cell_type": "markdown",
   "metadata": {},
   "source": [
    "### Grouping result sets\n",
    "Example 1: Eliminating dupilcation"
   ],
   "execution_count": null,
   "outputs": []
  },
  {
   "cell_type": "code",
   "execution_count": null,
   "metadata": {},
   "outputs": [],
   "source": [
    "Select distinct(country) from author"
   ]
  },
  {
   "cell_type": "markdown",
   "metadata": {},
   "source": [
    "Example 2: Group by clause to know how many authors are from the same country."
   ],
   "execution_count": null,
   "outputs": []
  },
  {
   "cell_type": "code",
   "execution_count": null,
   "metadata": {},
   "outputs": [],
   "source": [
    "#group by\n",
    "select country, count(country) from author group by country\n",
    "\n",
    "#as count\n",
    "select country, count(country)\n",
    "as count from author group by country\n",
    "\n",
    "#having\n",
    "select country, count(country) as count from author group by country having count(country) > 4"
   ]
  },
  {
   "cell_type": "markdown",
   "metadata": {},
   "source": [
    "### Build-in Database functions"
   ],
   "execution_count": null,
   "outputs": []
  },
  {
   "cell_type": "code",
   "execution_count": null,
   "metadata": {},
   "outputs": [],
   "source": [
    "#取总数后新增列\n",
    "select SUM(COLUMN_NAME) AS \"NAME_LABLE_NAME\"\n",
    "from TABLENAME"
   ]
  },
  {
   "cell_type": "code",
   "execution_count": null,
   "metadata": {},
   "outputs": [],
   "source": [
    "#两列之间的运算结果\n",
    "select AVG(SALEPRISE / QUANTITY) from PETSALE\n",
    "where ANIMAL = 'Dog'"
   ]
  },
  {
   "cell_type": "code",
   "execution_count": null,
   "metadata": {},
   "outputs": [],
   "source": [
    "#Scaler and String functions: ROUND(), LENGTH(), UCASE, LCASE\n",
    "SELECT UCASE(ANIMAL) from PETSALE\n",
    "\n",
    "SELECT DISTINCT(UCASE(ANIMAL)) from PETSALE\n",
    "\n",
    "SELECT * FROM PETSALE\n",
    "WHERE LCASE(ANIMAL) = 'cat'"
   ]
  },
  {
   "cell_type": "markdown",
   "metadata": {},
   "source": [
    "### Date and Time function"
   ],
   "execution_count": null,
   "outputs": []
  },
  {
   "cell_type": "code",
   "execution_count": null,
   "metadata": {},
   "outputs": [],
   "source": [
    "select DAY(SALEDAY) from PETSALE\n",
    "where ANIMAL = 'CAT'\n",
    "\n",
    "#Get the number of sales during the month of may:\n",
    "select count(*) from PETSALE\n",
    "where MONTH(SALEDAY) = '05'\n",
    "\n",
    "#find how many days have been passed since the saleday: CURRENT_DAY, CURRENT_TIME\n",
    "SELECT (CURRENT_DAY - SALEDAY) FROM PETSALE"
   ]
  },
  {
   "cell_type": "markdown",
   "metadata": {},
   "source": [
    "### Sub-Queries and nested selects\n",
    "使用Select的时候只兼容一种query"
   ],
   "execution_count": null,
   "outputs": []
  },
  {
   "cell_type": "code",
   "execution_count": null,
   "metadata": {},
   "outputs": [],
   "source": [
    "#Use substitude to create a table to avoide sensative info.\n",
    "Select * from\n",
    "    (select EPM_ID, F_NAME, L_NAME from EMPLOYEES) AS EMP4ALL"
   ]
  },
  {
   "cell_type": "markdown",
   "metadata": {},
   "source": [
    "### Working with multiple Tables\n"
   ],
   "execution_count": null,
   "outputs": []
  },
  {
   "cell_type": "code",
   "execution_count": null,
   "metadata": {},
   "outputs": [],
   "source": [
    "select * from employees\n",
    "    where DEP_ID in\n",
    "    (Select DEP_ID_DEP) from departments #outer sub-query"
   ]
  },
  {
   "cell_type": "code",
   "execution_count": null,
   "metadata": {},
   "outputs": [],
   "source": [
    "#To retrieve only the list of employees from a specific location\n",
    "select * from employees\n",
    "    where DEP_ID in\n",
    "    (SELECT DEP_ID_DEP from departments\n",
    "    where LOC_ID = 'L0002');"
   ]
  },
  {
   "cell_type": "code",
   "execution_count": null,
   "metadata": {},
   "outputs": [],
   "source": [
    "select DEP_ID_DAP, DAP_NAME from Departments\n",
    "   WHERE DEPT_ID_DEP IN\n",
    "    (select DEP_ID from employees\n",
    "    where SALARY > '70000')"
   ]
  },
  {
   "cell_type": "code",
   "execution_count": null,
   "metadata": {},
   "outputs": [],
   "source": [
    "#Example to access multiple tables with implicit join\n",
    "#在第一行select的序列中后尾加入首字母，可以用于后续的表格简单表达\n",
    "\n",
    "#查看数据 department name(from Departments) 和员工姓名(from employees)\n",
    "Select employees.EMP_ID, departments.DEPT_NAME \n",
    "    from Employees E, Departments Departments D \n",
    "    Where E.DEP_ID = D.Dep_ID_DEP;"
   ]
  },
  {
   "cell_type": "code",
   "execution_count": null,
   "metadata": {},
   "outputs": [],
   "source": [
    "select EMPLOYEES.F_NAME,EMPLOYEES.L_NAME,DEPARTMENTS.DEP_NAME\n",
    "    from EMPLOYEES E, DEPARTMENTS D \n",
    "    WHERE E.DEP_ID = D.DEPT_ID_DEP"
   ]
  },
  {
   "cell_type": "code",
   "execution_count": null,
   "metadata": {},
   "outputs": [],
   "source": [
    "SELECT F_NAME, DEP_NAME FROM EMPLOYEES E, DEPARTMENTS D\n",
    "\tWHERE E.DEP_ID = D.DEPT_ID_DEP"
   ]
  },
  {
   "cell_type": "markdown",
   "metadata": {},
   "source": [
    "**Joining 2 tables with sql syntax** <br>\n",
    "Inner join(most popular) & Outer join <br>\n",
    "1. Identify the schema of different items in 2 tables"
   ],
   "execution_count": null,
   "outputs": []
  },
  {
   "cell_type": "markdown",
   "metadata": {},
   "source": [
    "1.Inner Join"
   ],
   "execution_count": null,
   "outputs": []
  },
  {
   "cell_type": "code",
   "execution_count": null,
   "metadata": {},
   "outputs": [],
   "source": [
    "#假设两个表格 BORROWER(BORROWER_ID, LASTNAME, FIRSTNAME,EMAIL,COUNTRY), LOAN(COPY_ID[FK],BORROWER_ID[FK],LOAN_DATE,RETURN_DATE) Question: who(name) has borrowed book(s)\n",
    "\n",
    "SELECT B.BORROWER_ID, B.LASTNAME,B.COUNTRY, L.BORROWER_ID,L.LOAN_DATE\n",
    "FROM BORRROWER B INNER JOIN LOAN L #FROM means Join the info into BORROWER table\n",
    "ON B.BORROWER_ID = L.BORROWER_ID"
   ]
  },
  {
   "cell_type": "markdown",
   "metadata": {},
   "source": [
    "2.Left outer Join operator"
   ],
   "execution_count": null,
   "outputs": []
  },
  {
   "cell_type": "code",
   "execution_count": null,
   "metadata": {},
   "outputs": [],
   "source": [
    "#IN LEFT JOIN if there is unknow value in right table, there will be a 'NULL VALUE' in left table.\n",
    "\n",
    "SELECT B.BORROWER_ID, B.LASTNAME,B.COUNTRY, L.BORROWER_ID,L.LOAN_DATE\n",
    "FROM BORRROWER B LEFT JOIN IN LOAN L #FROM means 需要从LOAN的表格里往 BORROWER table填充数据\n",
    "ON B.BORROWER_ID = L.BORROWER_ID"
   ]
  },
  {
   "cell_type": "markdown",
   "metadata": {},
   "source": [
    "### Relational Model Constraints\n",
    "A constraints to each columns. <Br>\n",
    "A primary key uniquely identifies each row in a table. If primary keys could have NULL values, you could end up with duplicate rows in a table."
   ]
  },
  {
   "cell_type": "markdown",
   "metadata": {},
   "source": [
    "### Writing code using DB-API\n",
    "Cursor is a control structure enables traversal over the records in a database."
   ],
   "execution_count": null,
   "outputs": []
  },
  {
   "cell_type": "code",
   "execution_count": null,
   "metadata": {},
   "outputs": [],
   "source": [
    "from dbmodule import connect\n",
    "#create connection object\n",
    "Connection = connect('databasename','username','pswd')\n",
    "#create a cursor object\n",
    "corsor = connection.cursor()\n",
    "#run queries\n",
    "cursor.execute('select*from mytable')\n",
    "results = cursor.fetchall()\n",
    "#free resources\n",
    "cursor.close()\n",
    "connection.close()"
   ]
  },
  {
   "cell_type": "markdown",
   "metadata": {},
   "source": [
    "### Analyzing data with Python in Pandas and Visialization tools\n",
    "分析麦当劳产品的营养成分，表格中的schema可以概括为：\n",
    "category, item, serving size, calories from fat, total fat, ...fat, dietary fiber"
   ],
   "execution_count": null,
   "outputs": []
  },
  {
   "cell_type": "code",
   "execution_count": null,
   "metadata": {},
   "outputs": [],
   "source": [
    "#Verify loaded data using SQL\n",
    "stmt = ibm_db.exec_immediate(conn,\"SELECT * FROM MCDONALDS_NUTRITION\")\n",
    "\n",
    "ibm_db.fetch_both(stmt)"
   ]
  },
  {
   "cell_type": "code",
   "execution_count": null,
   "metadata": {},
   "outputs": [],
   "source": [
    "#Using pandas to retrieve data from db 有2种方法\n",
    "import pandas\n",
    "import ibm_db_dbi\n",
    "pconn = ibm_db_dbi.Connection(conn)\n",
    "\n",
    "#方法1\n",
    "df = pandas.read_sql(Select * from MCDONALDS_NUTRITION)\n",
    "df。head()\n",
    "\n",
    "#方法2\n",
    "#query statement to retrieve all rows in INSTRUCTOR table\n",
    "#selectQuery = \"select * from INSTRUCTOR\"\n",
    "#retrieve the query results into a pandas dataframe\n",
    "#pdf = pandas.read_sql(selectQuery, pconn)\n",
    "\n",
    "#print just the LNAME for first row in the pandas data frame\n",
    "#pdf.head()"
   ]
  },
  {
   "cell_type": "code",
   "execution_count": null,
   "metadata": {},
   "outputs": [],
   "source": [
    "#Use 'describe' method to view statistic of the data in the data frame可以看到count, unique, top, freq等参数\n",
    "df.describe(include='all')"
   ]
  },
  {
   "cell_type": "markdown",
   "metadata": {},
   "source": [
    "**To answer the question: which food item has maximum sodium content?**"
   ],
   "execution_count": null,
   "outputs": []
  },
  {
   "cell_type": "code",
   "execution_count": null,
   "metadata": {},
   "outputs": [],
   "source": [
    "#此方法会出现数据图表格，最高点是3600\n",
    "import matplotlib.pyplot as plt\n",
    "%matplotlib inline\n",
    "import seaborn as sns\n",
    "\n",
    "plot = sns.swamplot(x = \"Category\", y=\"Sodium\", data = df)\n",
    "plt.setp(plot.get_xticklables(),rotation=70)\n",
    "plt.title('Sodium Content')\n",
    "plt.show()"
   ]
  },
  {
   "cell_type": "code",
   "execution_count": null,
   "metadata": {},
   "outputs": [],
   "source": [
    "#Use boxpolt to explore whitegrid and sugars, it indicates the distribution of one or more variables. \n",
    "import matplotlib.pyplot as plt\n",
    "%matplotlib inline\n",
    "import seaborn as sns\n",
    "\n",
    "plot = sns.set_style(\"whitegrid\")\n",
    "ax = sns.boxplot(x=df[\"sugars\"])\n",
    "plot.show()"
   ]
  },
  {
   "cell_type": "code",
   "execution_count": null,
   "metadata": {},
   "outputs": [],
   "source": [
    "#用列表的方法查出各种最值 横坐标是count, mean, std, min, max\n",
    "df['Sodium'].describe()\n",
    "#结果也是3600"
   ]
  },
  {
   "cell_type": "code",
   "execution_count": null,
   "metadata": {},
   "outputs": [],
   "source": [
    "#找出sodium值最高的index 结果为82\n",
    "df['Sodium'].idxmax()"
   ]
  },
  {
   "cell_type": "code",
   "execution_count": null,
   "metadata": {},
   "outputs": [],
   "source": [
    "#找出index为82的item名称\n",
    "fd.at[82,'Item']"
   ]
  }
 ]
}